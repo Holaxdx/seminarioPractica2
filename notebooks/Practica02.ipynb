{
 "cells": [
  {
   "cell_type": "markdown",
   "metadata": {},
   "source": [
    "# 1. Análisis del Zen de Python\n",
    "\n",
    "Copie el texto del Zen de Python en una variable e imprima todas las líneas cuya segunda\n",
    "\n",
    "palabra comience con una vocal (A, E, I, O, U, a, e, i, o, u).\n",
    "\n",
    "El Zen de Python es una colección de principios que guían la filosofía de diseño de Python,\n",
    "\n",
    "escrita en forma de aforismos. Resalta la simplicidad, legibilidad y claridad en el código.\n",
    "\n",
    "Para verlo en Python, ejecute en la consola import this\n",
    "\n",
    "Para este punto debe colocar el contenido del Zen de python en una variable string:"
   ]
  },
  {
   "cell_type": "code",
   "execution_count": 12,
   "metadata": {},
   "outputs": [
    {
     "name": "stdout",
     "output_type": "stream",
     "text": [
      "Beautiful is better than ugly.\n",
      "Explicit is better than implicit.\n",
      "Simple is better than complex.\n",
      "Complex is better than complicated.\n",
      "Flat is better than nested.\n",
      "Sparse is better than dense.\n",
      "Unless explicitly silenced.\n",
      "Now is better than never.\n",
      "Namespaces are one honking great idea -- let's do more of those!\n"
     ]
    }
   ],
   "source": [
    "import this\n",
    "\n",
    "zen_text = \"\"\"The Zen of Python, by Tim Peters\n",
    "\n",
    "Beautiful is better than ugly.\n",
    "Explicit is better than implicit.\n",
    "Simple is better than complex.\n",
    "Complex is better than complicated.\n",
    "Flat is better than nested.\n",
    "Sparse is better than dense.\n",
    "Readability counts.\n",
    "Special cases aren't special enough to break the rules.\n",
    "Although practicality beats purity.\n",
    "Errors should never pass silently.\n",
    "Unless explicitly silenced.\n",
    "In the face of ambiguity, refuse the temptation to guess.\n",
    "There should be one-- and preferably only one --obvious way to do it.\n",
    "Although that way may not be obvious at first unless you're Dutch.\n",
    "Now is better than never.\n",
    "Although never is often better than *right* now.\n",
    "If the implementation is hard to explain, it's a bad idea.\n",
    "If the implementation is easy to explain, it may be a good idea.\n",
    "Namespaces are one honking great idea -- let's do more of those!\n",
    "\"\"\"\n",
    "\n",
    "\n",
    "for oracion in zen_text.split(sep=\"\\n\"):\n",
    "    if oracion:\n",
    "        if oracion.split()[1].startswith((\"A\", \"E\", \"I\", \"O\", \"U\", \"a\", \"e\", \"i\", \"o\", \"u\")):\n",
    "            print(oracion)\n",
    "    "
   ]
  },
  {
   "cell_type": "markdown",
   "metadata": {},
   "source": [
    "# 2. Título más largo\n",
    "\n",
    "Dado un listado de títulos de streams en Twitch:"
   ]
  },
  {
   "cell_type": "code",
   "execution_count": 1,
   "metadata": {},
   "outputs": [],
   "source": [
    "titles = [\n",
    "\"Speedrun de Super Mario en tiempo récord\",\n",
    "\"Charla sobre desarrollo de videojuegos\",\n",
    "\"Jugando al nuevo FPS del momento con amigos\",\n",
    "\"Música en vivo: improvisaciones al piano\"]"
   ]
  },
  {
   "cell_type": "markdown",
   "metadata": {},
   "source": [
    "Encuentre el título con más palabras y muéstrelo en pantalla."
   ]
  },
  {
   "cell_type": "code",
   "execution_count": 2,
   "metadata": {},
   "outputs": [
    {
     "name": "stdout",
     "output_type": "stream",
     "text": [
      "El titulo mas largo es: Jugando al nuevo FPS del momento con amigos\n"
     ]
    }
   ],
   "source": [
    "contador_palabras = 0\n",
    "pos = 0\n",
    "\n",
    "for i,titulo in enumerate(titles):\n",
    "    if len(titulo.split()) > contador_palabras:\n",
    "        contador_palabras = len(titulo.split())\n",
    "        pos = i\n",
    "\n",
    "print(f\"El titulo mas largo es: {titles[pos]}\")"
   ]
  },
  {
   "cell_type": "markdown",
   "metadata": {},
   "source": [
    "# 3. Código de conducta\n",
    "\n",
    "Dado un código de conducta para un servidor de Discord:"
   ]
  },
  {
   "cell_type": "code",
   "execution_count": 5,
   "metadata": {},
   "outputs": [],
   "source": [
    "rules = \"\"\"Respeta a los demás. No se permiten insultos ni lenguaje\n",
    "ofensivo.\n",
    "Evita el spam. No publiques enlaces sospechosos o repetitivos.\n",
    "No compartas información personal.\n",
    "Usa los canales adecuados para cada tema.\n",
    "Sigue las instrucciones de los moderadores.\"\"\""
   ]
  },
  {
   "cell_type": "markdown",
   "metadata": {},
   "source": [
    "Solicite una palabra clave al usuario e imprima todas las reglas que la contengan."
   ]
  },
  {
   "cell_type": "code",
   "execution_count": 13,
   "metadata": {},
   "outputs": [
    {
     "name": "stdout",
     "output_type": "stream",
     "text": [
      " No se permiten insultos ni lenguaje\n",
      "ofensivo\n",
      " No publiques enlaces sospechosos o repetitivos\n",
      "\n",
      "No compartas información personal\n"
     ]
    }
   ],
   "source": [
    "\n",
    "def buscar_clave(reglas,clave=str):\n",
    "    for regla in reglas:\n",
    "        if regla.find(clave) != -1:\n",
    "            print(regla)\n",
    "\n",
    "\n",
    "clave = input(\"ingrese una palabra clave: \")\n",
    "\n",
    "reglas_separadas = rules.split(sep=\".\")\n",
    "\n",
    "buscar_clave(reglas_separadas,clave)\n"
   ]
  },
  {
   "cell_type": "markdown",
   "metadata": {},
   "source": [
    "# 4. Validación de nombre de usuario\n",
    "\n",
    "**Valide un nombre de usuario con los siguientes criterios:**\n",
    "\n",
    "    -Al menos 5 caracteres.\n",
    "    -Contiene al menos un número.\n",
    "    -Contiene al menos una letra mayúscula.\n",
    "    -Solo puede contener letras y números."
   ]
  },
  {
   "cell_type": "code",
   "execution_count": null,
   "metadata": {},
   "outputs": [
    {
     "name": "stdout",
     "output_type": "stream",
     "text": [
      "El nombre de usuario no es valido\n"
     ]
    }
   ],
   "source": [
    "\n",
    "def nombre_valido(nombre=str):\n",
    "    \n",
    "    def contieneUnNumero():\n",
    "        for letra in nombre:\n",
    "            if letra.isdigit():\n",
    "                return True\n",
    "        return False\n",
    "    \n",
    "    def contieneLetraMayus():\n",
    "        for letra in nombre:\n",
    "            if letra.isupper():\n",
    "                return True\n",
    "        return False\n",
    "    \n",
    "    return (len(nombre) > 5) and contieneUnNumero() and contieneLetraMayus() and nombre.isalnum()\n",
    "\n",
    "nombre = input(\"Ingrese un nombre de usuario: \")\n",
    "\n",
    "print(\"El nombre de usuario es valido\" if nombre_valido(nombre) else \"El nombre de usuario no cumple con los requisitos.\")\n",
    "\n",
    "\n",
    "\n"
   ]
  },
  {
   "cell_type": "markdown",
   "metadata": {},
   "source": [
    "# 5. Clasificación de velocidad de reacción en un juego\n",
    "\n",
    "**Dado el tiempo de reacción de un jugador en milisegundos, clasifíquelo en las siguientes\n",
    "categorías:**\n",
    "\n",
    "    -Menos de 200 ms: Rápido\n",
    "    -Entre 200 y 500 ms: Normal\n",
    "    -Más de 500 ms: Lento"
   ]
  },
  {
   "cell_type": "code",
   "execution_count": 3,
   "metadata": {},
   "outputs": [
    {
     "name": "stdout",
     "output_type": "stream",
     "text": [
      "Categoria: Rapido\n"
     ]
    }
   ],
   "source": [
    "def clasificacion_reaccion(ms=int):\n",
    "  if ms < 200:\n",
    "    return \"Rapido\"\n",
    "  elif ms < 500:\n",
    "    return \"Normal\"\n",
    "  else:\n",
    "    return \"Lento\"\n",
    "\n",
    "\n",
    "ms = input(\"Ingrese su tiempo de reaccion en ms: \")\n",
    "\n",
    "print(f\"Categoria: {clasificacion_reaccion(int(ms))}\")"
   ]
  },
  {
   "cell_type": "markdown",
   "metadata": {},
   "source": [
    "# 6. Análisis de descripciones de una plataforma de stream\n",
    "\n",
    "Dadas varias descripciones de streams en Twitch, cuente cuántas menciones hay de\n",
    "\"entretenimiento\", \"música\" y \"charla\"."
   ]
  },
  {
   "cell_type": "code",
   "execution_count": 7,
   "metadata": {},
   "outputs": [],
   "source": [
    "descriptions = [\n",
    "\"Streaming de música en vivo con covers y composiciones\",\n",
    "\"Charla interactiva con la audiencia sobre series y películas\",\n",
    "\"Jugamos a juegos retro y charlamos sobre su historia\",\n",
    "\"Exploramos la mejor música de los 80s y 90s\",\n",
    "\"Programa de entretenimiento con noticias y curiosidades del mundo gamer\",\n",
    "\"Sesión de charla con invitados especiales del mundo del streaming\",\n",
    "\"Música en directo con improvisaciones y peticiones del chat\",\n",
    "\"Un espacio para charlar relajada sobre tecnología y cultura digital\",\n",
    "\"Exploramos el impacto de la música en los videojuegos clásicos\"\n",
    "]"
   ]
  },
  {
   "cell_type": "code",
   "execution_count": null,
   "metadata": {},
   "outputs": [
    {
     "name": "stdout",
     "output_type": "stream",
     "text": [
      "{'charla': 2, 'música': 4, 'entretenimiento': 1, 'streaming': 2, 'de': 5, 'en': 3, 'vivo': 1, 'con': 5, 'covers': 1, 'y': 7, 'composiciones': 1, 'interactiva': 1, 'la': 3, 'audiencia': 1, 'sobre': 3, 'series': 1, 'películas': 1, 'jugamos': 1, 'a': 1, 'juegos': 1, 'retro': 1, 'charlamos': 1, 'su': 1, 'historia': 1, 'exploramos': 2, 'mejor': 1, 'los': 2, '80s': 1, '90s': 1, 'programa': 1, 'noticias': 1, 'curiosidades': 1, 'del': 4, 'mundo': 2, 'gamer': 1, 'sesión': 1, 'invitados': 1, 'especiales': 1, 'directo': 1, 'improvisaciones': 1, 'peticiones': 1, 'chat': 1, 'un': 1, 'espacio': 1, 'para': 1, 'charlar': 1, 'relajada': 1, 'tecnología': 1, 'cultura': 1, 'digital': 1, 'el': 1, 'impacto': 1, 'videojuegos': 1, 'clásicos': 1}\n"
     ]
    }
   ],
   "source": [
    "menciones = {\n",
    "  'charla' : 0,\n",
    "  'música' : 0,\n",
    "  'entretenimiento' : 0\n",
    "}\n",
    "\n",
    "def contabilizar_menciones():\n",
    "  \n",
    "  for descripcion in descriptions:\n",
    "    \n",
    "    for palabra in descripcion.split():\n",
    "        clave = palabra.lower()\n",
    "        if clave in menciones.keys():\n",
    "          menciones[clave] = menciones.get(clave) + 1\n",
    "\n",
    "\n",
    "contabilizar_menciones()\n",
    "\n",
    "print(menciones)\n",
    "\n",
    "\n",
    "\n",
    "\n"
   ]
  },
  {
   "cell_type": "markdown",
   "metadata": {},
   "source": [
    "# 7. Generador de códigos de descuento\n",
    "\n",
    "Genere un código de descuento aleatorio para un usuario en base a su nombre, la fecha \n",
    "actual y el resto deben ser números o letras aleatorias. El código debe tener una longitud de\n",
    "\n",
    "30 caracteres, todas las letras deben ser mayúsculas.\n",
    "\n",
    "El usuario debe ingresarse por teclado y debe validar que no exeda los 15 caracteres."
   ]
  },
  {
   "cell_type": "code",
   "execution_count": 1,
   "metadata": {},
   "outputs": [
    {
     "name": "stdout",
     "output_type": "stream",
     "text": [
      "MATIASXDX-06082002-2XWIFBG2DAY\n",
      "30\n"
     ]
    }
   ],
   "source": [
    "import random as rn\n",
    "import string\n",
    "import sys\n",
    "\n",
    "def digito_aleatorio():\n",
    "\treturn rn.choice(string.ascii_uppercase + string.digits)\n",
    "\n",
    "\n",
    "usuario = input(\"Usuario: \")\n",
    "\n",
    "if len(usuario)<=15:\n",
    "\tfecha = input(\"Fecha(ingrese en el formato 'anio-mes-dia' )\")\n",
    "else:\n",
    "    print(\"Usuario no valido!\")\n",
    "    sys.exit(1)\n",
    "\t\n",
    "\n",
    "codigo_descuento = f\"{usuario.upper()}-{fecha.replace(\"-\",\"\")}-\"\n",
    "\n",
    "for n in range(30 - len(codigo_descuento)):\n",
    "    codigo_descuento = codigo_descuento + digito_aleatorio()\n",
    "    \n",
    "\n",
    "print(codigo_descuento)\n",
    "print(len(codigo_descuento))\n",
    "\n",
    "\n",
    "\n"
   ]
  },
  {
   "cell_type": "markdown",
   "metadata": {},
   "source": [
    "# 8. Identificación de anagramas\n",
    "\n",
    "**Determine si dos palabras ingresadas son anagramas (contienen las mismas letras en\n",
    "diferente orden).**"
   ]
  },
  {
   "cell_type": "code",
   "execution_count": null,
   "metadata": {},
   "outputs": [
    {
     "name": "stdout",
     "output_type": "stream",
     "text": [
      "Son anagramas.\n"
     ]
    }
   ],
   "source": [
    "palabra1 = input(\"Ingrese la primera palabra: \")\n",
    "\n",
    "palabra2 =  input(\"Ingrese la segunda palabra: \")\n",
    "\n",
    "print(\"Son anagramas.\" if palabra1[::-1] == palabra2 else \"No son anagramas\" )\n"
   ]
  },
  {
   "cell_type": "markdown",
   "metadata": {},
   "source": [
    "## 9. Limpieza de Datos para un Sistema de Clientes\n",
    "\n",
    "**Eres un analista de datos en una empresa que ha recibido una lista de nombres de clientes\n",
    "de distintas fuentes.\n",
    "Sin embargo, estos datos contienen errores, espacios en blanco, nombres repetidos y\n",
    "valores nulos.\n",
    "Tu tarea es desarrollar un sistema que limpie y estandarice estos datos para poder usarlos\n",
    "en el sistema de facturación.**\n",
    "\n",
    "Datos de entrada\n",
    "La empresa ha recopilado nombres de clientes desde diferentes formularios, bases de datos\n",
    "y registros manuales.\n",
    "La lista de datos inicial es la siguiente:"
   ]
  },
  {
   "cell_type": "code",
   "execution_count": null,
   "metadata": {},
   "outputs": [],
   "source": [
    "clients = [\n",
    "\" Ana López \", \"Pedro Gómez\", \"maria martínez\", \"Pedro Gómez \", \"\",\n",
    "\" Luis Rodríguez \", None, \"ana lópez\", \"JUAN PÉREZ\", \"MARTA SUÁREZ\",\n",
    "\"luis rodríguez\", \"maría martínez \", \" claudia torres\", \"CLAUDIATORRES\",\n",
    "\" \", \"pedro gómez\", \"Juan Pérez\", None, \"Ricardo Fernández\", \"LAURA RAMOS\",\n",
    "\"carlos mendes\", \"RICARDO FERNÁNDEZ \", \" Laura ramos\", \"CARLOS MENDES\",\n",
    "\"alejandro gonzález\", \" ALEJANDRO GONZÁLEZ \", \"Patricia Vega\",\n",
    "\"patricia VEGA\", \"Andrés Ocampo\", \" andrés ocampo\", \"Monica Herrera\",\n",
    "\"MONICA HERRERA \", \"gabriela ruíz\", \"Gabriela Ruíz\", \"sandra morales\",\n",
    "\"SANDRA MORALES\", \"miguel ángel\", \"Miguel Ángel \", \" Damián Castillo\",\n",
    "\"Damián Castillo \", None, \"\", \" \"\n",
    "]\n",
    "\n"
   ]
  },
  {
   "cell_type": "code",
   "execution_count": 107,
   "metadata": {},
   "outputs": [
    {
     "name": "stdout",
     "output_type": "stream",
     "text": [
      "[' Ana López ', 'Pedro Gómez', 'maria martínez', 'Pedro Gómez ', '', ' Luis Rodríguez ', None, 'ana lópez', 'JUAN PÉREZ', 'MARTA SUÁREZ', 'luis rodríguez', 'maría martínez ', ' claudia torres', 'CLAUDIATORRES', ' ', 'pedro gómez', 'Juan Pérez', None, 'Ricardo Fernández', 'LAURA RAMOS', 'carlos mendes', 'RICARDO FERNÁNDEZ ', ' Laura ramos', 'CARLOS MENDES', 'alejandro gonzález', ' ALEJANDRO GONZÁLEZ ', 'Patricia Vega', 'patricia VEGA', 'Andrés Ocampo', ' andrés ocampo', 'Monica Herrera', 'MONICA HERRERA ', 'gabriela ruíz', 'Gabriela Ruíz', 'sandra morales', 'SANDRA MORALES', 'miguel ángel', 'Miguel Ángel ', ' Damián Castillo', 'Damián Castillo ', None, '', ' ']\n",
      "----------------------------------------------------------------------------------------------------\n",
      "{'', 'Miguel ángel', 'Marta suárez', 'María martínez', ' Luis Rodríguez ', 'Laura ramos', 'Carlos mendes', 'Juan pérez', 'ana lópez', 'Luis rodríguez', 'Claudiatorres', 'Claudia torres', 'Patricia vega', 'Ana lópez', 'Andrés ocampo', 'Monica herrera', 'Gabriela ruíz', 'Alejandro gonzález', 'Ricardo fernández', 'Maria martínez', 'Pedro gómez', 'Ricardo Fernández', 'pedro gómez', 'Damián castillo', 'Sandra morales'}\n"
     ]
    }
   ],
   "source": [
    "print(clients)\n",
    "print(\"-\"*100)\n",
    "def corregir_cliente(nombre=str):\n",
    "    nombre = nombre.strip().lower() \n",
    "    return nombre.capitalize()\n",
    "\t\n",
    "def cliente_valido(nombre=str):\n",
    "    return not(None == nombre) and nombre.replace(\" \",\"\").isalpha()\n",
    "\n",
    "\n",
    "\n",
    "def limpiar_clientes(clients):\n",
    "    for i,cliente in enumerate(clients):\n",
    "        if cliente_valido(cliente):\n",
    "            clients[i] = corregir_cliente(cliente)\n",
    "        else:\n",
    "            del(clients[i])\n",
    "    \n",
    "    \n",
    "    return set(clients)\n",
    "\n",
    "\n",
    "print(limpiar_clientes(clients))"
   ]
  },
  {
   "cell_type": "markdown",
   "metadata": {},
   "source": [
    "# 10. Simulación de partidas y ranking en shooter online\n",
    "\n",
    "Simule varias partidas de un juego de disparos y genere un ranking basado en el puntaje\n",
    "total de cada jugador. Se utilizará el siguiente sistema de puntuación:\n",
    "\n",
    "**kills 3p**\n",
    "\n",
    "**Asistencia 1p**\n",
    "\n",
    "**Muerte -1p**\n",
    "\n",
    "    -Dado el siguiente conjunto de rondas:"
   ]
  },
  {
   "cell_type": "code",
   "execution_count": 10,
   "metadata": {},
   "outputs": [],
   "source": [
    "rounds = [\n",
    "{\n",
    "'Shadow': {'kills': 2, 'assists': 1, 'deaths': True},\n",
    "'Blaze': {'kills': 1, 'assists': 0, 'deaths': False},\n",
    "'Viper': {'kills': 1, 'assists': 2, 'deaths': True},\n",
    "'Frost': {'kills': 0, 'assists': 1, 'deaths': False},\n",
    "'Reaper': {'kills': 1, 'assists': 1, 'deaths': False}\n",
    "},\n",
    "{\n",
    "'Shadow': {'kills': 0, 'assists': 2, 'deaths': False},\n",
    "'Blaze': {'kills': 2, 'assists': 0, 'deaths': True},\n",
    "'Viper': {'kills': 1, 'assists': 1, 'deaths': False},\n",
    "'Frost': {'kills': 2, 'assists': 1, 'deaths': True},\n",
    "'Reaper': {'kills': 0, 'assists': 1, 'deaths': False}\n",
    "},\n",
    "{\n",
    "'Shadow': {'kills': 1, 'assists': 0, 'deaths': False},\n",
    "'Blaze': {'kills': 2, 'assists': 2, 'deaths': True},\n",
    "'Viper': {'kills': 1, 'assists': 1, 'deaths': True},\n",
    "'Frost': {'kills': 0, 'assists': 1, 'deaths': False},\n",
    "'Reaper': {'kills': 1, 'assists': 1, 'deaths': False}\n",
    "},\n",
    "{\n",
    "'Shadow': {'kills': 2, 'assists': 1, 'deaths': False},\n",
    "'Blaze': {'kills': 1, 'assists': 0, 'deaths': True},\n",
    "'Viper': {'kills': 0, 'assists': 2, 'deaths': False},\n",
    "'Frost': {'kills': 1, 'assists': 1, 'deaths': True},\n",
    "'Reaper': {'kills': 1, 'assists': 1, 'deaths': False}\n",
    "},\n",
    "{\n",
    "'Shadow': {'kills': 1, 'assists': 2, 'deaths': True},\n",
    "'Blaze': {'kills': 0, 'assists': 1, 'deaths': False},\n",
    "'Viper': {'kills': 2, 'assists': 0, 'deaths': True},\n",
    "'Frost': {'kills': 1, 'assists': 1, 'deaths': False},\n",
    "'Reaper': {'kills': 1, 'assists': 1, 'deaths': True}\n",
    "}\n",
    "]"
   ]
  },
  {
   "cell_type": "markdown",
   "metadata": {},
   "source": [
    "Imprima las tablas de resultados luego de la inserción de cada una de las rondas pudiendo\n",
    "ver el progreso en el equipo.Además **cada ronda debe tener un MVP (Mejor Jugador del Partido/ronda) basado en su\n",
    "puntuación.** La cantidad de veces que **el jugador ha sido MVP también se debe contabilizar**\n",
    "Se debe imprimir el total de kills, asistencias, muertes, cantidad de MVP y puntos totales. La\n",
    "tabla tienen que estar en orden decreciente por los puntos totales"
   ]
  },
  {
   "cell_type": "code",
   "execution_count": 14,
   "metadata": {},
   "outputs": [
    {
     "name": "stdout",
     "output_type": "stream",
     "text": [
      "Ranking ronda 1:\n",
      "Jugador   Kills Asistencias  Muertes    MVP  Puntos\n",
      "--------------------------------------------------\n",
      "Shadow     2       1          0         MVP    6\n",
      "Blaze     1       0          1                 3\n",
      "Viper     1       2          0                 4\n",
      "Frost     0       1          1                 1\n",
      "Reaper     1       1          1                 4\n",
      "--------------------------------------------------\n",
      "Ranking ronda 2:\n",
      "Jugador   Kills Asistencias  Muertes    MVP  Puntos\n",
      "--------------------------------------------------\n",
      "Shadow     0       2          1                 2\n",
      "Blaze     2       0          0                 5\n",
      "Viper     1       1          1                 4\n",
      "Frost     2       1          0         MVP    6\n",
      "Reaper     0       1          1                 1\n",
      "--------------------------------------------------\n",
      "Ranking ronda 3:\n",
      "Jugador   Kills Asistencias  Muertes    MVP  Puntos\n",
      "--------------------------------------------------\n",
      "Shadow     1       0          1                 3\n",
      "Blaze     2       2          0         MVP    7\n",
      "Viper     1       1          0                 3\n",
      "Frost     0       1          1                 1\n",
      "Reaper     1       1          1                 4\n",
      "--------------------------------------------------\n",
      "Ranking ronda 4:\n",
      "Jugador   Kills Asistencias  Muertes    MVP  Puntos\n",
      "--------------------------------------------------\n",
      "Shadow     2       1          1         MVP    7\n",
      "Blaze     1       0          0                 2\n",
      "Viper     0       2          1                 2\n",
      "Frost     1       1          0                 3\n",
      "Reaper     1       1          1                 4\n",
      "--------------------------------------------------\n",
      "Ranking ronda 5:\n",
      "Jugador   Kills Asistencias  Muertes    MVP  Puntos\n",
      "--------------------------------------------------\n",
      "Shadow     1       2          0                 4\n",
      "Blaze     0       1          1                 1\n",
      "Viper     2       0          0         MVP    5\n",
      "Frost     1       1          1                 4\n",
      "Reaper     1       1          0                 3\n",
      "--------------------------------------------------\n",
      "Ranking final: :\n",
      "Jugador   Kills Asistencias  Muertes    MVP  Puntos\n",
      "--------------------------------------------------\n",
      "Shadow      6          6         2       2       22    \n",
      "Blaze      6          3         3       1       18    \n",
      "Viper      5          6         3       1       18    \n",
      "Reaper      4          5         1       0       16    \n",
      "Frost      4          5         2       1       15    \n"
     ]
    }
   ],
   "source": [
    "\n",
    "\n",
    "def recopilar_estadisticas(rondas):\n",
    "    \n",
    "    def calcular_puntaje(estadisticas): \n",
    "        puntos_por_accion = {\n",
    "\t\t\"kills\" : 3,\n",
    "\t\t\"assists\" : 1,\n",
    "\t\t\"deaths\" : -1\n",
    "\t\t} \n",
    "        puntos = 0 \n",
    "        for e,p in puntos_por_accion.items():\n",
    "            cant = estadisticas[e]\n",
    "            puntos += p * cant if cant != bool else (-1 if cant else 0) \n",
    "        return puntos\n",
    "    \n",
    "    \n",
    "    def estadistica_jugador(estadistica):\n",
    "        nueva_estadistica = estadistica.copy()\n",
    "        puntos = calcular_puntaje(nueva_estadistica) \n",
    "        nueva_estadistica[\"puntos\"] = puntos \n",
    "        nueva_estadistica[\"mvp\"] = False\n",
    "        return nueva_estadistica \n",
    "    \n",
    "    \n",
    "    scoreboard = {}\n",
    "    \n",
    "    # en este primer for recorro cada ronda\n",
    "    for i,ronda in enumerate(rondas):\n",
    "        \n",
    "        mvp = [\"sin jugador\",0] \n",
    "        \n",
    "        for jugador,estadisticas in ronda.items():\n",
    "            # en la siguiente asignacion, creo la clave jugador que dentro suyo va a tener un valor\n",
    "            # de tipo lista, que va almacenar la ronda con sus puntajes y si fue mvp\n",
    "            scoreboard.setdefault(jugador, []).append(estadistica_jugador(estadisticas))\n",
    "            puntos = scoreboard[jugador][i].get(\"puntos\")\n",
    "            # print(f\"{jugador} los puntos que tiene {puntos}\")\n",
    "            if mvp[1] < puntos:\n",
    "                mvp[0] = jugador\n",
    "                mvp[1] = puntos\n",
    "                    \n",
    "        scoreboard[mvp[0]][i][\"mvp\"] = True\n",
    "                    \n",
    "    return scoreboard\n",
    "# primera mitad hecha            \n",
    "\n",
    "\n",
    "def imprimir_ranking(scoreboard):\n",
    "    \n",
    "    \n",
    "    def calcular_estadisticas(jugador):\t        \n",
    "        kills = sum(round[\"kills\"] for round in jugador) \n",
    "        assists = sum(round[\"assists\"] for round in jugador) \n",
    "        deaths = sum(1 for round in jugador if round[\"deaths\"]) \n",
    "        mvp = sum(1 for round in jugador if round[\"mvp\"]) \n",
    "        puntos = sum(round[\"puntos\"] for round in jugador)            \n",
    "        return kills, assists, deaths, mvp, puntos\n",
    "  \n",
    "  \n",
    "    def imprimir_tabla(pos):\n",
    "        print(f\"Ranking {pos}:\")\n",
    "        print(f\"Jugador\" + \" \"*3 + \"Kills\" + \" \"*1 + \"Asistencias\" + \" \"*2 + \"Muertes\" + \" \"*4 +\"MVP\"+ \" \"*2 + \"Puntos\")\n",
    "        print(\"-\"*50)\n",
    "\n",
    "    numero_rondas = 5\n",
    "    \n",
    "    estadisticas = []\n",
    "   \n",
    "         \n",
    "    for ronda in range(numero_rondas):\n",
    "        imprimir_tabla(f\"ronda {ronda + 1}\")\n",
    "                        \n",
    "        for jugador,rondas_jugador in scoreboard.items():\n",
    "            if ronda == 0:  \n",
    "                kills, assists, deaths, mvp, puntos = calcular_estadisticas(rondas_jugador)\n",
    "                estadisticas.append((jugador, kills, assists, deaths, mvp, puntos))\n",
    "            print(f\"{jugador}{\" \"*5}{rondas_jugador[ronda].get(\"kills\")}{\" \"*7}{rondas_jugador[ronda].get(\"assists\")}{\" \"*10}{0 if rondas_jugador[ronda].get(\"deaths\") else 1}{\" \"*9}{(\"MVP\")if rondas_jugador[ronda].get('mvp') else \" \"*4} {\" \"*3}{rondas_jugador[ronda].get('puntos')}\")\n",
    "        print(\"-\"*50)\n",
    "    \n",
    "    \n",
    "    estadisticas_ordenadas = sorted(estadisticas, key=lambda item: item[5], reverse=True)\n",
    "            \n",
    "    imprimir_tabla(\"final: \")\n",
    "    \n",
    "    for jugador, kills, assists, deaths, mvp, puntos in estadisticas_ordenadas:\n",
    "        print(f\"{jugador}{\" \"*5} {kills}{\" \"*9} {assists} {\" \"*8}{deaths}{\" \"*7}{mvp}{\" \"*6} {puntos}{\" \"*4}\")\n",
    "    \n",
    "        \n",
    "\n",
    "\n",
    "scoreboard = recopilar_estadisticas(rounds.copy())\n",
    "\n",
    "# print(scoreboard)\n",
    "\n",
    "imprimir_ranking(scoreboard)\n",
    " \n",
    "\n",
    "# imprimir_ranking(scoreboard)"
   ]
  }
 ],
 "metadata": {
  "kernelspec": {
   "display_name": "Python 3",
   "language": "python",
   "name": "python3"
  },
  "language_info": {
   "codemirror_mode": {
    "name": "ipython",
    "version": 3
   },
   "file_extension": ".py",
   "mimetype": "text/x-python",
   "name": "python",
   "nbconvert_exporter": "python",
   "pygments_lexer": "ipython3",
   "version": "3.12.9"
  }
 },
 "nbformat": 4,
 "nbformat_minor": 2
}
